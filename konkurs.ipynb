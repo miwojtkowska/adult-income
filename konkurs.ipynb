{
 "cells": [
  {
   "cell_type": "markdown",
   "metadata": {},
   "source": [
    "## Libraries"
   ]
  },
  {
   "cell_type": "code",
   "execution_count": 1,
   "metadata": {},
   "outputs": [],
   "source": [
    "import pandas as pd\n",
    "import numpy as np\n",
    "np.random.seed(2019)\n",
    "\n",
    "from sklearn.model_selection import StratifiedKFold\n",
    "from sklearn.model_selection import KFold, cross_val_score\n",
    "from sklearn.model_selection import train_test_split\n",
    "from sklearn.model_selection import learning_curve\n",
    "from sklearn.model_selection import ShuffleSplit\n",
    "\n",
    "import re\n",
    "import sys\n",
    "from collections import defaultdict\n",
    "\n",
    "from scikitplot.estimators import plot_learning_curve\n",
    "from sklearn.dummy import DummyRegressor, DummyClassifier\n",
    "from sklearn.linear_model import LinearRegression\n",
    "from sklearn.tree import DecisionTreeRegressor, DecisionTreeClassifier\n",
    "from sklearn.ensemble import RandomForestRegressor, ExtraTreesRegressor, RandomForestClassifier\n",
    "import xgboost as xgb\n",
    "\n",
    "from ml_metrics import rmsle, mae, mse\n",
    "from sklearn.metrics import accuracy_score, precision_score, recall_score, f1_score, fbeta_score,r2_score, mean_absolute_error \n",
    "\n",
    "import eli5\n",
    "from eli5.sklearn import PermutationImportance\n",
    "from eli5.permutation_importance import get_score_importances\n",
    "\n",
    "import seaborn as sns\n",
    "import matplotlib.pyplot as plt\n",
    "%matplotlib inline"
   ]
  },
  {
   "cell_type": "markdown",
   "metadata": {},
   "source": [
    "## Data"
   ]
  },
  {
   "cell_type": "code",
   "execution_count": 27,
   "metadata": {},
   "outputs": [],
   "source": [
    "train = pd.read_hdf('../input/diabetic_train.h5')\n",
    "test = pd.read_hdf('../input/diabetic_test.h5')"
   ]
  },
  {
   "cell_type": "markdown",
   "metadata": {},
   "source": [
    "## Basic model"
   ]
  },
  {
   "cell_type": "code",
   "execution_count": 28,
   "metadata": {},
   "outputs": [],
   "source": [
    "def get_X_y(feats):\n",
    "    X = train[ feats ].fillna(-1).values\n",
    "    y = train['readmitted'].values\n",
    "    \n",
    "    return X, y\n",
    "\n",
    "X, y = get_X_y(['admission_type_id',\n",
    " 'discharge_disposition_id',\n",
    " 'admission_source_id',\n",
    " 'time_in_hospital',\n",
    " 'num_lab_procedures',\n",
    " 'num_procedures',\n",
    " 'num_medications',\n",
    " 'number_outpatient',\n",
    " 'number_emergency',\n",
    " 'number_inpatient',\n",
    " 'number_diagnoses',\n",
    " 'metformin',\n",
    " 'repaglinide',\n",
    " 'nateglinide',\n",
    " 'chlorpropamide',\n",
    " 'glimepiride',\n",
    " 'acetohexamide',\n",
    " 'glipizide',\n",
    " 'glyburide',\n",
    " 'tolbutamide',\n",
    " 'pioglitazone',\n",
    " 'rosiglitazone',\n",
    " 'acarbose',\n",
    " 'miglitol',\n",
    " 'troglitazone',\n",
    " 'tolazamide',\n",
    " 'examide',\n",
    " 'citoglipton',\n",
    " 'insulin',\n",
    " 'glyburide-metformin',\n",
    " 'glipizide-metformin',\n",
    " 'glimepiride-pioglitazone',\n",
    " 'metformin-rosiglitazone',\n",
    " 'metformin-pioglitazone',\n",
    " 'change',\n",
    " 'diabetesMed'])"
   ]
  },
  {
   "cell_type": "code",
   "execution_count": 29,
   "metadata": {},
   "outputs": [
    {
     "data": {
      "text/plain": [
       "0.7132613234092765"
      ]
     },
     "execution_count": 29,
     "metadata": {},
     "output_type": "execute_result"
    }
   ],
   "source": [
    "cross_val_score(DummyClassifier(random_state=2019), X, y, scoring='accuracy', cv=3).mean()"
   ]
  },
  {
   "cell_type": "code",
   "execution_count": 30,
   "metadata": {},
   "outputs": [
    {
     "data": {
      "text/plain": [
       "0.8324407733502768"
      ]
     },
     "execution_count": 30,
     "metadata": {},
     "output_type": "execute_result"
    }
   ],
   "source": [
    "cross_val_score(DecisionTreeClassifier(max_depth=3, random_state=2019), X, y, scoring='accuracy', cv=3).mean()"
   ]
  },
  {
   "cell_type": "code",
   "execution_count": 31,
   "metadata": {},
   "outputs": [
    {
     "data": {
      "text/plain": [
       "0.8269038758282653"
      ]
     },
     "execution_count": 31,
     "metadata": {},
     "output_type": "execute_result"
    }
   ],
   "source": [
    "cross_val_score(RandomForestClassifier(max_depth=3, n_estimators=100, random_state=2019), X, y, scoring='accuracy', cv=3).mean()"
   ]
  },
  {
   "cell_type": "code",
   "execution_count": 32,
   "metadata": {},
   "outputs": [
    {
     "data": {
      "text/plain": [
       "0.8339535868808811"
      ]
     },
     "execution_count": 32,
     "metadata": {},
     "output_type": "execute_result"
    }
   ],
   "source": [
    "cross_val_score(xgb.XGBClassifier(max_depth=3, n_estimators=100, random_state=2019), X, y, scoring='accuracy', cv=3).mean()"
   ]
  },
  {
   "cell_type": "markdown",
   "metadata": {},
   "source": [
    "## New feats"
   ]
  },
  {
   "cell_type": "code",
   "execution_count": 40,
   "metadata": {},
   "outputs": [],
   "source": [
    "def get_feats(df):\n",
    "    black_list = ['id', 'readmitted']\n",
    "    feats = df.select_dtypes(include=[np.number]).columns.values\n",
    "    \n",
    "    feats = [feat for feat in feats if feat not in black_list]\n",
    "    return feats\n",
    "    \n",
    "def get_X_y(df, target='readmitted', verbose=False):\n",
    "    feats = get_feats(df)\n",
    "    if verbose: print(feats)\n",
    "        \n",
    "    X = df[ get_feats(df) ].values\n",
    "    y = df[target].values\n",
    "    \n",
    "    return X, y\n",
    "\n",
    "X, y = get_X_y(train)"
   ]
  },
  {
   "cell_type": "code",
   "execution_count": 41,
   "metadata": {},
   "outputs": [
    {
     "data": {
      "text/plain": [
       "0.7154700311639587"
      ]
     },
     "execution_count": 41,
     "metadata": {},
     "output_type": "execute_result"
    }
   ],
   "source": [
    "cross_val_score(xgb.XGBClassifier(max_depth=3, n_estimators=100, random_state=2019), X, y, scoring='accuracy', cv=3).mean()"
   ]
  },
  {
   "cell_type": "markdown",
   "metadata": {},
   "source": [
    "## Feature engineering #1"
   ]
  },
  {
   "cell_type": "code",
   "execution_count": 46,
   "metadata": {},
   "outputs": [],
   "source": [
    "# Leave top10 values, the rest to 'other'\n",
    "top_diag_1 = list(train['diag_1'].value_counts().head(10).keys())\n",
    "\n",
    "diag_1_norm = defaultdict(lambda: 'other', dict(zip(top_diag_1, top_diag_1)))\n",
    "train['diag_1_norm'] = train['diag_1'].map(diag_1_norm)\n",
    "# factorize\n",
    "train['diag_1_norm_cat'] = train['diag_1_norm'].factorize()[0]\n"
   ]
  },
  {
   "cell_type": "code",
   "execution_count": 48,
   "metadata": {},
   "outputs": [
    {
     "data": {
      "text/plain": [
       "0     19221\n",
       "1      2217\n",
       "9      2119\n",
       "5      2024\n",
       "2      1586\n",
       "3      1363\n",
       "10     1038\n",
       "4       993\n",
       "6       856\n",
       "8       843\n",
       "7       791\n",
       "Name: diag_2_norm_cat, dtype: int64"
      ]
     },
     "execution_count": 48,
     "metadata": {},
     "output_type": "execute_result"
    }
   ],
   "source": [
    "# diag_2\n",
    "# Leave top10 values, the rest to 'other'\n",
    "top_diag_2 = list(train['diag_2'].value_counts().head(10).keys())\n",
    "\n",
    "diag_2_norm = defaultdict(lambda: 'other', dict(zip(top_diag_2, top_diag_2)))\n",
    "train['diag_2_norm'] = train['diag_2'].map(diag_2_norm)\n",
    "train['diag_2_norm_cat'] = train['diag_2_norm'].factorize()[0]\n",
    "\n",
    "train['diag_2_norm_cat'].value_counts()"
   ]
  },
  {
   "cell_type": "code",
   "execution_count": null,
   "metadata": {},
   "outputs": [],
   "source": []
  },
  {
   "cell_type": "code",
   "execution_count": 49,
   "metadata": {},
   "outputs": [
    {
     "data": {
      "image/png": "[encoded data removed]",
      "text/plain": [
       "<Figure size 432x288 with 1 Axes>"
      ]
     },
     "metadata": {
      "needs_background": "light"
     },
     "output_type": "display_data"
    }
   ],
   "source": [
    "X, y = get_X_y(train)\n",
    "\n",
    "cross_val_score(xgb.XGBClassifier(max_depth=3, n_estimators=100, random_state=2019), X, y, scoring='accuracy', cv=3).mean()\n",
    "plot_learning_curve(xgb.XGBClassifier(max_depth=5, n_estimators=150, random_state=2019), X, y, cv=3);"
   ]
  },
  {
   "cell_type": "code",
   "execution_count": 51,
   "metadata": {},
   "outputs": [
    {
     "data": {
      "text/plain": [
       "['encounter_id',\n",
       " 'patient_nbr',\n",
       " 'admission_type_id',\n",
       " 'discharge_disposition_id',\n",
       " 'admission_source_id',\n",
       " 'time_in_hospital',\n",
       " 'num_lab_procedures',\n",
       " 'num_procedures',\n",
       " 'num_medications',\n",
       " 'number_outpatient',\n",
       " 'number_emergency',\n",
       " 'number_inpatient',\n",
       " 'number_diagnoses',\n",
       " 'metformin',\n",
       " 'repaglinide',\n",
       " 'nateglinide',\n",
       " 'chlorpropamide',\n",
       " 'glimepiride',\n",
       " 'acetohexamide',\n",
       " 'glipizide',\n",
       " 'glyburide',\n",
       " 'tolbutamide',\n",
       " 'pioglitazone',\n",
       " 'rosiglitazone',\n",
       " 'acarbose',\n",
       " 'miglitol',\n",
       " 'troglitazone',\n",
       " 'tolazamide',\n",
       " 'examide',\n",
       " 'citoglipton',\n",
       " 'insulin',\n",
       " 'glyburide-metformin',\n",
       " 'glipizide-metformin',\n",
       " 'glimepiride-pioglitazone',\n",
       " 'metformin-rosiglitazone',\n",
       " 'metformin-pioglitazone',\n",
       " 'change',\n",
       " 'diabetesMed',\n",
       " 'diag_1_norm_cat']"
      ]
     },
     "execution_count": 51,
     "metadata": {},
     "output_type": "execute_result"
    }
   ],
   "source": [
    "feats"
   ]
  },
  {
   "cell_type": "code",
   "execution_count": null,
   "metadata": {},
   "outputs": [],
   "source": [
    "# Categorical features\n"
   ]
  },
  {
   "cell_type": "code",
   "execution_count": 52,
   "metadata": {},
   "outputs": [
    {
     "data": {
      "text/plain": [
       "array(['encounter_id', 'patient_nbr', 'admission_type_id',\n",
       "       'discharge_disposition_id', 'admission_source_id',\n",
       "       'time_in_hospital', 'num_lab_procedures', 'num_procedures',\n",
       "       'num_medications', 'number_outpatient', 'number_emergency',\n",
       "       'number_inpatient', 'number_diagnoses', 'metformin', 'repaglinide',\n",
       "       'nateglinide', 'chlorpropamide', 'glimepiride', 'acetohexamide',\n",
       "       'glipizide', 'glyburide', 'tolbutamide', 'pioglitazone',\n",
       "       'rosiglitazone', 'acarbose', 'miglitol', 'troglitazone',\n",
       "       'tolazamide', 'examide', 'citoglipton', 'insulin',\n",
       "       'glyburide-metformin', 'glipizide-metformin',\n",
       "       'glimepiride-pioglitazone', 'metformin-rosiglitazone',\n",
       "       'metformin-pioglitazone', 'readmitted', 'id', 'diag_1_norm_cat',\n",
       "       'diag_2_norm_cat', 'diag_3_norm_cat'], dtype=object)"
      ]
     },
     "execution_count": 52,
     "metadata": {},
     "output_type": "execute_result"
    }
   ],
   "source": [
    "# Numerical features\n",
    "train.select_dtypes(include=[np.number]).columns.values"
   ]
  },
  {
   "cell_type": "code",
   "execution_count": null,
   "metadata": {},
   "outputs": [],
   "source": []
  }
 ],
 "metadata": {
  "kernelspec": {
   "display_name": "Python 3",
   "language": "python",
   "name": "python3"
  },
  "language_info": {
   "codemirror_mode": {
    "name": "ipython",
    "version": 3
   },
   "file_extension": ".py",
   "mimetype": "text/x-python",
   "name": "python",
   "nbconvert_exporter": "python",
   "pygments_lexer": "ipython3",
   "version": "3.7.4"
  }
 },
 "nbformat": 4,
 "nbformat_minor": 2
}
